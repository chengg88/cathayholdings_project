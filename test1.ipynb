{
 "cells": [
  {
   "cell_type": "code",
   "execution_count": 1,
   "metadata": {},
   "outputs": [],
   "source": [
    "from transformers import pipeline\n",
    "import glob\n",
    "from PIL import Image\n",
    "from transformers import AutoFeatureExtractor, AutoModelForImageClassification\n",
    "from collections import Counter\n",
    "import warnings\n",
    "from sklearn.metrics import classification_report\n",
    "import torch\n",
    "import cv2 as cv\n",
    "import numpy as np\n",
    "import matplotlib.pyplot as plt\n",
    "import os\n",
    "import re\n",
    "import random\n",
    "import pandas as pd\n",
    "import glob\n",
    "from tqdm import tqdm\n",
    "warnings.filterwarnings(\"ignore\")\n",
    "\n",
    "extractor = AutoFeatureExtractor.from_pretrained(\"Devarshi/Brain_Tumor_Detector_swin\")\n",
    "model = AutoModelForImageClassification.from_pretrained(\"Devarshi/Brain_Tumor_Detector_swin\")\n",
    "# pipe = pipeline(\"image-classification\", model=\"surajjoshi/swin-tiny-patch4-window7-224-finetuned-brainTumorData\")"
   ]
  },
  {
   "cell_type": "code",
   "execution_count": 7,
   "metadata": {},
   "outputs": [
    {
     "name": "stderr",
     "output_type": "stream",
     "text": [
      "100%|██████████| 3762/3762 [33:49<00:00,  1.85it/s]"
     ]
    },
    {
     "name": "stdout",
     "output_type": "stream",
     "text": [
      "              precision    recall  f1-score   support\n",
      "\n",
      "          no       0.65      0.56      0.60      2079\n",
      "         yes       0.54      0.63      0.58      1683\n",
      "\n",
      "    accuracy                           0.59      3762\n",
      "   macro avg       0.59      0.60      0.59      3762\n",
      "weighted avg       0.60      0.59      0.59      3762\n",
      "\n"
     ]
    },
    {
     "name": "stderr",
     "output_type": "stream",
     "text": [
      "\n"
     ]
    }
   ],
   "source": [
    "file = \"archive\\Brain Tumor\\Brain Tumor\"\n",
    "df = pd.read_csv(\"archive\\Brain Tumor.csv\")\n",
    "prd_list = []\n",
    "true_list = []\n",
    "for filename in tqdm(glob.glob(file + \"/*.jpg\")):\n",
    "    name = re.findall(r'Image+\\d+', str(filename))\n",
    "    true_list.append(df[df[\"Image\"] == name[0]]['Class'].values[0])\n",
    "    # image = Image.open(filename)\n",
    "    image = cv.imread(filename)\n",
    "    # 糊糊化(blur)\n",
    "    blur = cv.GaussianBlur(image, (7,7), cv.BORDER_DEFAULT)\n",
    "    # 輪廓化(edge cascade)\n",
    "    canny = cv.Canny(blur, 125, 175)\n",
    "    # 膨脹 dilating\n",
    "    dilated = cv.dilate(canny, (7,7), iterations=3)\n",
    "    # 侵蝕 eroding\n",
    "    eroding = cv.erode(canny, (3,3), iterations=1)\n",
    "    # cv.waitKey(0)\n",
    "    image = extractor(image, return_tensors=\"pt\")\n",
    "    logits = model(**image).logits\n",
    "    predicted_label = logits.argmax(-1).item()\n",
    "    prd_list.append(model.config.id2label[predicted_label])\n",
    "true_list_tras = [\"no\" if x == 0 else \"yes\" for x in true_list]\n",
    "report = classification_report(true_list_tras, prd_list)\n",
    "print(report)\n",
    "# print(Counter(prd_list))"
   ]
  },
  {
   "cell_type": "code",
   "execution_count": 17,
   "metadata": {},
   "outputs": [
    {
     "name": "stdout",
     "output_type": "stream",
     "text": [
      "Counter({'yes': 4, 'no': 1})\n",
      "Counter({2: 3, 1: 2})\n"
     ]
    }
   ],
   "source": [
    "true_list = []\n",
    "prd_list = []\n",
    "for i,filename in enumerate(dataset[\"test\"][1:]):\n",
    "    image = dataset[\"test\"][i][\"image\"]\n",
    "    lable = dataset[\"test\"][i]['objects'][\"category\"][0]\n",
    "    image = extractor(image, return_tensors=\"pt\")\n",
    "    logits = model(**image).logits\n",
    "    predicted_label = logits.argmax(-1).item()\n",
    "    prd_list.append(model.config.id2label[predicted_label])\n",
    "    true_list.append(lable)\n",
    "print(Counter(prd_list))\n",
    "print(Counter(true_list))"
   ]
  },
  {
   "cell_type": "code",
   "execution_count": null,
   "metadata": {},
   "outputs": [],
   "source": []
  },
  {
   "cell_type": "code",
   "execution_count": null,
   "metadata": {},
   "outputs": [],
   "source": []
  }
 ],
 "metadata": {
  "kernelspec": {
   "display_name": "Python 3",
   "language": "python",
   "name": "python3"
  },
  "language_info": {
   "codemirror_mode": {
    "name": "ipython",
    "version": 3
   },
   "file_extension": ".py",
   "mimetype": "text/x-python",
   "name": "python",
   "nbconvert_exporter": "python",
   "pygments_lexer": "ipython3",
   "version": "3.10.9"
  }
 },
 "nbformat": 4,
 "nbformat_minor": 2
}
